{
 "cells": [
  {
   "cell_type": "code",
   "execution_count": null,
   "metadata": {},
   "outputs": [],
   "source": []
  }
 ],
 "metadata": {
  "kernelspec": {
   "display_name": "Python 3.10.7 ('Projekt-TaRUoUtg')",
   "language": "python",
   "name": "python3"
  },
  "language_info": {
   "name": "python",
   "version": "3.10.7"
  },
  "orig_nbformat": 4,
  "vscode": {
   "interpreter": {
    "hash": "a8e7faf8ba0ef15c4d03cfc4d94093f6e39ba40aaba681cae37213ebd37208b0"
   }
  }
 },
 "nbformat": 4,
 "nbformat_minor": 2
}
